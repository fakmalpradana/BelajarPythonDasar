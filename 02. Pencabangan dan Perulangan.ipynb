{
 "cells": [
  {
   "cell_type": "markdown",
   "metadata": {},
   "source": [
    "<img src = coverpage.png />\n",
    "\n",
    "# Python Crash Course - pt2"
   ]
  },
  {
   "cell_type": "markdown",
   "metadata": {},
   "source": [
    "Pada bagian ini akan disajikan beberapa contoh script python sebagai media untuk belajar mandiri python, atau sekedar mengingat kembali seputar dasar python. Semoga bermanfaat, selamat belajar.\n",
    "Yang akan dipelajari pada modul ini adalah \n",
    "1. Pencabangan (if, else)\n",
    "2. Perulangan/looping (for, while)"
   ]
  },
  {
   "cell_type": "markdown",
   "metadata": {},
   "source": [
    "## 1. Pencabangan"
   ]
  },
  {
   "cell_type": "markdown",
   "metadata": {},
   "source": [
    "Pencabangan umumnya digunakan ketika hendak menerapkan sebuah perintah code selanjutnya yang bergantung dengan kondisi yang sesuai. Pada python, syntax pencabangan yang digunakan adalah if, else, dan elif.\n",
    "<img src='https://www.alphacodingskills.com/python/img/python-if-elif-else.png'/>"
   ]
  },
  {
   "cell_type": "markdown",
   "metadata": {},
   "source": [
    "Dibawah ini adalah statemen if, dimana ketika kondisi yang ditentukan sesuai maka code dibawah statemen if akan dieksekusi, dan jika kondisi bernilai False atau tidak sesuai maka code tidak akan di eksekusi."
   ]
  },
  {
   "cell_type": "code",
   "execution_count": 2,
   "metadata": {},
   "outputs": [
    {
     "name": "stdout",
     "output_type": "stream",
     "text": [
      "satu sama dengan satu\n"
     ]
    }
   ],
   "source": [
    "#if\n",
    "if(1==1):\n",
    "    print('satu sama dengan satu')"
   ]
  },
  {
   "cell_type": "code",
   "execution_count": 3,
   "metadata": {},
   "outputs": [],
   "source": [
    "if(1!=1):\n",
    "    print('satu tidak sama dengan satu')"
   ]
  },
  {
   "cell_type": "markdown",
   "metadata": {},
   "source": [
    "Pada sel kedua contoh penggunaan if, disana tidak terdapat outout dikarenakan kondisi tidak sesuai maka code dibawahnya tidak dieksekusi. Lalu, pada contoh pertama perintah print di eksekusi karena kondisi yang diterapkan benar."
   ]
  },
  {
   "cell_type": "markdown",
   "metadata": {},
   "source": [
    "Berikutnya pengambilan keputusan kondisi if else tidak hanya digunakan untuk menentukan tindakan apa yang akan diambil sesuai dengan kondisi, tetapi juga digunakan untuk menentukan tindakan apa yang akan diambil/dijalankan jika kondisi tidak sesuai. Kondisi if else adalah kondisi dimana jika pernyataan benar True maka kode dalam if akan dieksekusi, tetapi jika bernilai salah False maka akan mengeksekusi kode di dalam else."
   ]
  },
  {
   "cell_type": "code",
   "execution_count": 4,
   "metadata": {},
   "outputs": [
    {
     "name": "stdout",
     "output_type": "stream",
     "text": [
      "x kurang dari 7\n"
     ]
    }
   ],
   "source": [
    "#if-else\n",
    "x=5\n",
    "if(x>7):\n",
    "    print('x lebih dari 7')\n",
    "else:\n",
    "    print('x kurang dari 7')"
   ]
  },
  {
   "cell_type": "code",
   "execution_count": 5,
   "metadata": {},
   "outputs": [
    {
     "name": "stdout",
     "output_type": "stream",
     "text": [
      "x sama dengan 5\n"
     ]
    }
   ],
   "source": [
    "if(x==5):\n",
    "    print('x sama dengan 5')\n",
    "else:\n",
    "    print('x tidak sama dengan 5')"
   ]
  },
  {
   "cell_type": "markdown",
   "metadata": {},
   "source": [
    "Pengambilan keputusan (kondisi if elif) merupakan lanjutan/percabangan logika dari “kondisi if”. Dengan elif kita bisa membuat kode program yang akan menyeleksi beberapa kemungkinan yang bisa terjadi. Hampir sama dengan kondisi “else”, bedanya kondisi “elif” bisa banyak dan tidak hanya satu."
   ]
  },
  {
   "cell_type": "code",
   "execution_count": 6,
   "metadata": {},
   "outputs": [
    {
     "name": "stdout",
     "output_type": "stream",
     "text": [
      "x adalah 5\n"
     ]
    }
   ],
   "source": [
    "#if-elif\n",
    "if(x==1):\n",
    "    print('x adalah 1')\n",
    "elif(x==2):\n",
    "    print('x adalah 2')\n",
    "elif(x==3):\n",
    "    print('x adalah 3')\n",
    "elif(x==4):\n",
    "    print('x adalah 4')\n",
    "elif(x==5):\n",
    "    print('x adalah 5')"
   ]
  },
  {
   "cell_type": "markdown",
   "metadata": {},
   "source": [
    "## 2. Perulangan/looping"
   ]
  },
  {
   "cell_type": "markdown",
   "metadata": {},
   "source": [
    "Looping adalah sebuah urutan perintah yang secara menerus diulang hingga suatu kondisi tercapai. Kondisi yang dimaksud disini dapat dalam bentuk yang berbeda-beda seperti mendapatkan data dan merubah data, lalu menentukan apakah sebuah nilai sudah mencapai jumlah yang ditentukan.\n",
    "Syntax looping yang digunakan dalam python adalah while loop dan for loop, untuk perbedaannya dapat dilihat pada gambar dibawah ini"
   ]
  },
  {
   "cell_type": "markdown",
   "metadata": {},
   "source": [
    "Ilustrasi skema while loop\n",
    "<img src='https://www.tutorialandexample.com/wp-content/uploads/2019/08/php-while-loop.png'/>"
   ]
  },
  {
   "cell_type": "markdown",
   "metadata": {},
   "source": [
    "Ilustrasi skema for loop\n",
    "<img src='https://static.javatpoint.com/python/images/python-for-loop.png'/>"
   ]
  },
  {
   "cell_type": "markdown",
   "metadata": {},
   "source": [
    "Dari kedua ilustrasi diatas dapat dibedakan dari parameter perulangannya, untuk while loop akan dilakukan perulangan jika kondisi memenuhi dan akan berhenti ketika kondisi sudah tidak sesuai, lalu untuk for loop akan dilakukan perulangan sesuai range data yang telah ditentukan. Berikut dibawah ini adalah contoh perulangan dari while dan for loop."
   ]
  },
  {
   "cell_type": "code",
   "execution_count": 1,
   "metadata": {},
   "outputs": [
    {
     "name": "stdout",
     "output_type": "stream",
     "text": [
      "5 kurang dari 10\n",
      "6 kurang dari 10\n",
      "7 kurang dari 10\n",
      "8 kurang dari 10\n",
      "9 kurang dari 10\n"
     ]
    }
   ],
   "source": [
    "#while loop\n",
    "a = 5\n",
    "while(a<10):\n",
    "    print(a,'kurang dari 10')\n",
    "    a=a+1"
   ]
  },
  {
   "cell_type": "code",
   "execution_count": 2,
   "metadata": {},
   "outputs": [
    {
     "name": "stdout",
     "output_type": "stream",
     "text": [
      "1  dikali 2 =  2\n",
      "2  dikali 2 =  4\n",
      "3  dikali 2 =  6\n",
      "4  dikali 2 =  8\n",
      "5  dikali 2 =  10\n"
     ]
    }
   ],
   "source": [
    "#for loop\n",
    "b = [1,2,3,4,5]\n",
    "for i in b:\n",
    "    print(i,' dikali 2 = ',i*2)"
   ]
  },
  {
   "cell_type": "markdown",
   "metadata": {},
   "source": [
    "## Contoh Gabungan dari Pencabangan dan Perulangan"
   ]
  },
  {
   "cell_type": "markdown",
   "metadata": {},
   "source": [
    "Berikut digunakan studi kasus sederhana dalam penulisan angka 1 s/d 10 dan memilahnya menjadi bilangan ganjil atau genap"
   ]
  },
  {
   "cell_type": "code",
   "execution_count": 5,
   "metadata": {},
   "outputs": [
    {
     "name": "stdout",
     "output_type": "stream",
     "text": [
      "0  adalah bilangan kosong\n",
      "1  adalah bilangan ganjil\n",
      "2  adalah bilangan genap\n",
      "3  adalah bilangan ganjil\n",
      "4  adalah bilangan genap\n",
      "5  adalah bilangan ganjil\n",
      "6  adalah bilangan genap\n",
      "7  adalah bilangan ganjil\n",
      "8  adalah bilangan genap\n",
      "9  adalah bilangan ganjil\n",
      "10  adalah bilangan genap\n"
     ]
    }
   ],
   "source": [
    "for i in range(11):\n",
    "    if(i==0):\n",
    "        print(i,' adalah bilangan kosong')\n",
    "    elif(i%2!=0):\n",
    "        print(i,' adalah bilangan ganjil')\n",
    "    else:\n",
    "        print(i,' adalah bilangan genap')"
   ]
  },
  {
   "cell_type": "markdown",
   "metadata": {},
   "source": [
    "## Contoh bentuk nested loop"
   ]
  },
  {
   "cell_type": "markdown",
   "metadata": {},
   "source": [
    "nested loop adalah sebuah looping yang terjadi didalam sebuah looping. Untuk lebih jelasnya dapat dilihat pada code dibawah ini dengan studi kasus penentuan bilangan prima dari 0 s/d 50."
   ]
  },
  {
   "cell_type": "code",
   "execution_count": 7,
   "metadata": {},
   "outputs": [
    {
     "name": "stdout",
     "output_type": "stream",
     "text": [
      "2  adalah bilangan prima\n",
      "3  adalah bilangan prima\n",
      "5  adalah bilangan prima\n",
      "7  adalah bilangan prima\n",
      "11  adalah bilangan prima\n",
      "13  adalah bilangan prima\n",
      "17  adalah bilangan prima\n",
      "19  adalah bilangan prima\n",
      "23  adalah bilangan prima\n",
      "29  adalah bilangan prima\n",
      "31  adalah bilangan prima\n",
      "37  adalah bilangan prima\n",
      "41  adalah bilangan prima\n",
      "43  adalah bilangan prima\n",
      "47  adalah bilangan prima\n"
     ]
    }
   ],
   "source": [
    "i = 2\n",
    "while(i<50):\n",
    "    j=2\n",
    "    while(j <= (i/j)):\n",
    "        if not(i%j): break\n",
    "        j = j + 1\n",
    "    if(j > i/j) : print(i,' adalah bilangan prima')\n",
    "    i = i+1"
   ]
  },
  {
   "cell_type": "markdown",
   "metadata": {},
   "source": [
    "## Selamat Mencoba"
   ]
  }
 ],
 "metadata": {
  "kernelspec": {
   "display_name": "Python 3",
   "language": "python",
   "name": "python3"
  },
  "language_info": {
   "codemirror_mode": {
    "name": "ipython",
    "version": 3
   },
   "file_extension": ".py",
   "mimetype": "text/x-python",
   "name": "python",
   "nbconvert_exporter": "python",
   "pygments_lexer": "ipython3",
   "version": "3.8.3"
  }
 },
 "nbformat": 4,
 "nbformat_minor": 4
}

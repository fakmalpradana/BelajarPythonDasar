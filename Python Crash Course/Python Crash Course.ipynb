{
 "cells": [
  {
   "cell_type": "markdown",
   "metadata": {},
   "source": [
    "# Python Crash Course"
   ]
  },
  {
   "cell_type": "markdown",
   "metadata": {},
   "source": [
    "Pada bagian ini akan disajikan beberapa contoh script python sebagai media untuk belajar mandiri python, atau sekedar mengingat kembali seputar dasar python. Semoga bermanfaat, selamat belajar."
   ]
  },
  {
   "cell_type": "markdown",
   "metadata": {},
   "source": [
    "Yang akan dipelajari pada modul ini adalah \n",
    "1. Tipe Data\n",
    "2. Pencabangan (If, else)\n",
    "3. Perulangan (looping)\n",
    "4. Fungsi"
   ]
  },
  {
   "cell_type": "markdown",
   "metadata": {},
   "source": [
    "## 1. Tipe Data"
   ]
  },
  {
   "cell_type": "markdown",
   "metadata": {},
   "source": [
    "Python sebagai salah satu bahasa pemrograman yang populer tentunya memiliki tipe data. Tipe data merupakan salah satu aspek yang penting dalam bahasa pemrograman manapun. Tipe data –sesuai namanya– ia adalah jenis dari suatu data. Setiap data memiliki nilai, dan setiap nilai memiliki jenis. Ada data-data yang bertipe angka, ada pula yang bertipe huruf/karakter, ada juga yang bertipe benar/salah dan sebagainya. Variabel dapat menyimpan nilai data berbeda dan nilai tersebut berperilaku berbeda pula. Secara default python memiliki tipe data antara lain :\n",
    "\n",
    "1. Tipe Text yaitu string\n",
    "2. Tipe Numeric yaitu Integer, Float, dan Complex\n",
    "3. Tipe Sequence yaitu List, Tuple, Range\n",
    "4. Tipe Mapping yaitu Dict\n",
    "5. Tipe Set yaitu Set, Frozen Set\n",
    "6. Tipe Boolean yaitu Bool\n",
    "\n",
    "Untuk melihat tipe data kita bisa menggunakan fungsi bawaan dengan nama type(). Sebagai contoh kita ingin mengetahui beberapa type data dari nilai variable pada code berikut."
   ]
  },
  {
   "cell_type": "markdown",
   "metadata": {},
   "source": [
    "**TIPE DATA TEXT/STRING**"
   ]
  },
  {
   "cell_type": "code",
   "execution_count": 12,
   "metadata": {},
   "outputs": [
    {
     "name": "stdout",
     "output_type": "stream",
     "text": [
      "halo\n",
      "selamat pagi semua\n"
     ]
    }
   ],
   "source": [
    "#001 - tipe data string tanpa variabel\n",
    "print('halo')\n",
    "print('selamat pagi semua')"
   ]
  },
  {
   "cell_type": "code",
   "execution_count": 11,
   "metadata": {},
   "outputs": [
    {
     "name": "stdout",
     "output_type": "stream",
     "text": [
      "halo\n",
      "halo semua, selamat datang\n"
     ]
    }
   ],
   "source": [
    "#002 - tipe data string dengan variabel\n",
    "kata = 'halo'\n",
    "kalimat = 'halo semua, selamat datang'\n",
    "print(kata)\n",
    "print(kalimat)"
   ]
  },
  {
   "cell_type": "code",
   "execution_count": 9,
   "metadata": {},
   "outputs": [
    {
     "name": "stdout",
     "output_type": "stream",
     "text": [
      "<class 'str'>\n",
      "<class 'str'>\n"
     ]
    }
   ],
   "source": [
    "#003 - pengecekan tipe data dengan fungsi type()\n",
    "print(type(kata))\n",
    "print(type(kalimat))"
   ]
  },
  {
   "cell_type": "markdown",
   "metadata": {},
   "source": [
    "Tipe data String digunakan untuk menyimpan data text/kata dan kalimat. Tipe data ini dapat menyimpan bentuk data alphanumeris dan ciri utama string yaitu diapit oleh tanda ( ' ), sebagai contoh seperti penulisan kata serta kalimat diatas selalu diawali dan diakhiri tanda petik.\n",
    "Pada line pertama di atas didefinisikan variabel dengan nama variabel \"text\" yang diisikan data text atau string berupa kata \"halo\", kemudian pada line kedua membuktikan tipe data dari variabel \"text\" adalah berupa 'str' atau string."
   ]
  },
  {
   "cell_type": "markdown",
   "metadata": {},
   "source": [
    "**TIPE DATA NUMERIK**"
   ]
  },
  {
   "cell_type": "markdown",
   "metadata": {},
   "source": [
    "Tipe data numerik terdapat beberapa macam yaitu interger, float dan complex. Tipe data interger digunakan untuk data numerik berupa bilangan bulat, untuk tipe data float digunakan untuk menyatakan bilangan desimal dan tipe data complex digunakan untuk menyatakan pasangan angka real dan imajiner."
   ]
  },
  {
   "cell_type": "code",
   "execution_count": 13,
   "metadata": {},
   "outputs": [],
   "source": [
    "#004 - interger\n",
    "x = 18"
   ]
  },
  {
   "cell_type": "code",
   "execution_count": 14,
   "metadata": {},
   "outputs": [
    {
     "name": "stdout",
     "output_type": "stream",
     "text": [
      "18\n"
     ]
    }
   ],
   "source": [
    "print(x)"
   ]
  },
  {
   "cell_type": "code",
   "execution_count": 15,
   "metadata": {},
   "outputs": [],
   "source": [
    "#005 - float\n",
    "y = 4.2001"
   ]
  },
  {
   "cell_type": "code",
   "execution_count": 16,
   "metadata": {},
   "outputs": [
    {
     "name": "stdout",
     "output_type": "stream",
     "text": [
      "4.2001\n"
     ]
    }
   ],
   "source": [
    "print(y)"
   ]
  },
  {
   "cell_type": "code",
   "execution_count": 33,
   "metadata": {},
   "outputs": [],
   "source": [
    "#006 - complex\n",
    "z = 3e-2"
   ]
  },
  {
   "cell_type": "code",
   "execution_count": 34,
   "metadata": {},
   "outputs": [
    {
     "name": "stdout",
     "output_type": "stream",
     "text": [
      "0.03\n"
     ]
    }
   ],
   "source": [
    "print(z)"
   ]
  },
  {
   "cell_type": "code",
   "execution_count": 32,
   "metadata": {},
   "outputs": [
    {
     "name": "stdout",
     "output_type": "stream",
     "text": [
      "tipe data x = <class 'int'>\n",
      "tipe data y = <class 'float'>\n",
      "tipe data z = <class 'float'>\n"
     ]
    }
   ],
   "source": [
    "#007pengecekan tipe data setiap variabel dengan fungsi type()\n",
    "print('tipe data x =',type(x))\n",
    "print('tipe data y =',type(y))\n",
    "print('tipe data z =',type(z))"
   ]
  },
  {
   "cell_type": "markdown",
   "metadata": {},
   "source": [
    "Pada sel nomor ke 7 diketahui bahwa variabel x bertipe interger dan variabel y bertipe float, tetapi variabel z yang seharusnya bertipe complex terdeteksi menjadi float saat diidentifikasi dengan fungsi type(), hal tersebut dikarenakan setelah nilai/bilangan complex diisikan ke dalam variabel secara otomatis saat variabel dipanggil maka hasil yang muncul adalah bilangan yang sama namun yang telah dikonversi ke bentuk tipe float/desimal."
   ]
  },
  {
   "cell_type": "markdown",
   "metadata": {},
   "source": [
    "**TIPE DATA SEQUENCE**"
   ]
  },
  {
   "cell_type": "markdown",
   "metadata": {},
   "source": [
    "Secara umum sequence berarti adalah sebuah urutan, maka tipe data sequence adalah tipe data yang berupa urutan serta dalam tipe data ini memiliki nilai index (nomor urutan), pada data list dan sequence separator/pemisah tiap value adalah tanda koma (,). Berikut adalah penjelasan tiap jenis dari tipe data sequence :\n",
    "\n",
    "- Tipe data list adalah sebuah urutan (sequence) dari kumpulan data yang dapat diubah - ubah (Flexibel). Data list dapat didefinisikan dengan []. Data list dapat memuat data serta variabel dengan isian string dan numerik\n",
    "- Tipe data tuple adalah sebuah urutan (sequence) untuk menyimpan beberapa data yang tidak dapat diubah - ubah (Fixed). Data tupple dapat didefinisikan dengan (). Data tupple dapat memuat data serta variabel dengan isian string dan numerik\n",
    "- range jenis nya lebih ke arah fungsi, karena menghasilkan sebuah urutan angka berdasarkan parameter yang diberikan. range biasanya digunakan untuk membuat looping pada python (pada tipe data ini akan terlihat jelas fungsinya ketika digunakan pada looping atau proses perulangan). \n",
    "\n",
    "Untuk penggunaan/penulisan tipe data tersebut dapat dilihat pada sel sel dibawah ini."
   ]
  },
  {
   "cell_type": "code",
   "execution_count": 48,
   "metadata": {},
   "outputs": [],
   "source": [
    "#008 - list\n",
    "a = [1,2.09,'a','ab',3e+1,z]"
   ]
  },
  {
   "cell_type": "code",
   "execution_count": 49,
   "metadata": {},
   "outputs": [
    {
     "name": "stdout",
     "output_type": "stream",
     "text": [
      "[1, 2.09, 'a', 'ab', 30.0, 0.03]\n",
      "<class 'list'>\n"
     ]
    }
   ],
   "source": [
    "print(a)\n",
    "print(type(a))"
   ]
  },
  {
   "cell_type": "code",
   "execution_count": 82,
   "metadata": {},
   "outputs": [],
   "source": [
    "#009 - tuple\n",
    "b = (31.2,'selamat pagi','a01',x,z)"
   ]
  },
  {
   "cell_type": "code",
   "execution_count": 47,
   "metadata": {},
   "outputs": [
    {
     "name": "stdout",
     "output_type": "stream",
     "text": [
      "(31.2, 'selamat pagi', 'a01', 18, 0.03)\n",
      "<class 'tuple'>\n"
     ]
    }
   ],
   "source": [
    "print(b)\n",
    "print(type(b))"
   ]
  },
  {
   "cell_type": "markdown",
   "metadata": {},
   "source": [
    "Pada Tuple nilai yang telah diberikan akan bersifat fixed, maka jika dicoba untuk mengganti salah satu nilai didalam tuple akan terjadi eror."
   ]
  },
  {
   "cell_type": "code",
   "execution_count": 79,
   "metadata": {},
   "outputs": [],
   "source": [
    "#010 - range\n",
    "c = range(10)"
   ]
  },
  {
   "cell_type": "code",
   "execution_count": 80,
   "metadata": {},
   "outputs": [
    {
     "name": "stdout",
     "output_type": "stream",
     "text": [
      "range(0, 10)\n",
      "<class 'range'>\n"
     ]
    }
   ],
   "source": [
    "print(c)\n",
    "print(type(c))"
   ]
  },
  {
   "cell_type": "markdown",
   "metadata": {},
   "source": [
    "Selain cara pemanggilan diatas, pada tipe data list dan tuple dapat dipanggil dengan index tertentu dengan menambahkan tanda [] yang berisikan nilai index, dimana nilai index mulai dari 0. Untuk lebih jelasnya bisa dilihat pada sel dibawah ini."
   ]
  },
  {
   "cell_type": "code",
   "execution_count": 72,
   "metadata": {},
   "outputs": [
    {
     "name": "stdout",
     "output_type": "stream",
     "text": [
      "2.09\n"
     ]
    }
   ],
   "source": [
    "#011 - pemanggilan tipe data list dan tuple dengan nilai index\n",
    "print(a[1])"
   ]
  },
  {
   "cell_type": "code",
   "execution_count": 74,
   "metadata": {},
   "outputs": [
    {
     "name": "stdout",
     "output_type": "stream",
     "text": [
      "(31.2, 'selamat pagi')\n"
     ]
    }
   ],
   "source": [
    "print(b[:2])"
   ]
  },
  {
   "cell_type": "code",
   "execution_count": 75,
   "metadata": {},
   "outputs": [
    {
     "name": "stdout",
     "output_type": "stream",
     "text": [
      "['a', 'ab', 30.0, 0.03]\n"
     ]
    }
   ],
   "source": [
    "print(a[2:])"
   ]
  },
  {
   "cell_type": "code",
   "execution_count": 76,
   "metadata": {},
   "outputs": [
    {
     "name": "stdout",
     "output_type": "stream",
     "text": [
      "('selamat pagi', 'a01')\n"
     ]
    }
   ],
   "source": [
    "print(b[1:3])"
   ]
  },
  {
   "cell_type": "markdown",
   "metadata": {},
   "source": [
    "Pada tipe data list dapat dibuat berupa data nested list, atau yang biasa disebut adanya sebuah list didalam list, untuk lebih jelasnya bisa dilihat pada sel dibawah ini untuk cara pendefinisian dan pemanggilannya."
   ]
  },
  {
   "cell_type": "code",
   "execution_count": 84,
   "metadata": {},
   "outputs": [],
   "source": [
    "#012 - nested list\n",
    "nest = [2,'z',[7,'f'],4]"
   ]
  },
  {
   "cell_type": "code",
   "execution_count": 85,
   "metadata": {},
   "outputs": [
    {
     "name": "stdout",
     "output_type": "stream",
     "text": [
      "z\n"
     ]
    }
   ],
   "source": [
    "print(nest[1])"
   ]
  },
  {
   "cell_type": "code",
   "execution_count": 86,
   "metadata": {},
   "outputs": [
    {
     "name": "stdout",
     "output_type": "stream",
     "text": [
      "[7, 'f']\n"
     ]
    }
   ],
   "source": [
    "print(nest[2])"
   ]
  },
  {
   "cell_type": "code",
   "execution_count": 87,
   "metadata": {},
   "outputs": [
    {
     "name": "stdout",
     "output_type": "stream",
     "text": [
      "f\n"
     ]
    }
   ],
   "source": [
    "print(nest[2][1])"
   ]
  },
  {
   "cell_type": "markdown",
   "metadata": {},
   "source": [
    "**TIPE DATA MAPPING**"
   ]
  },
  {
   "cell_type": "markdown",
   "metadata": {},
   "source": [
    "Tipe data mapping adalah jenis array untuk menyimpan beberapa pasang data yang memiliki **“key”** untuk penunjuk value. Tipe data ini dalam python adalah 'dictionary' atau disingkat 'dict'. Setiap key dipisahkan dari value-nya oleh titik dua (:), item dipisahkan oleh koma, dan semuanya tertutup dalam kurung kurawal. Dictionary kosong tanpa barang ditulis hanya dengan dua kurung kurawal, seperti ini: {}. Nilai dictionary bisa berupa tipe apa pun, namun key harus berupa tipe data yang tidak berubah (unique value dan fixed) seperti string, angka, atau tuple."
   ]
  },
  {
   "cell_type": "code",
   "execution_count": 65,
   "metadata": {},
   "outputs": [],
   "source": [
    "#013 - dictionary\n",
    "d = {'nama':'akmal','umur':20,'alamat':'mjk'}"
   ]
  },
  {
   "cell_type": "code",
   "execution_count": 69,
   "metadata": {},
   "outputs": [
    {
     "name": "stdout",
     "output_type": "stream",
     "text": [
      "{'nama': 'akmal', 'umur': 20, 'alamat': 'mjk'}\n",
      "<class 'dict'>\n"
     ]
    }
   ],
   "source": [
    "print(d)\n",
    "print(type(d))"
   ]
  },
  {
   "cell_type": "markdown",
   "metadata": {},
   "source": [
    "Selain cara memanggil diatas, pada tipe data dictionary dapat dilakukan pemanggilan nilai variabel secara custom dengan menambahkan tanda [] yang berisikan key dari data value. Untuk lebih jelasnya dapat dilihat sebagai berikut."
   ]
  },
  {
   "cell_type": "code",
   "execution_count": 78,
   "metadata": {},
   "outputs": [
    {
     "name": "stdout",
     "output_type": "stream",
     "text": [
      "20\n"
     ]
    }
   ],
   "source": [
    "#014 - pemanggilan tipe data dict dengan key\n",
    "print(d['umur'])"
   ]
  },
  {
   "cell_type": "markdown",
   "metadata": {},
   "source": [
    "**TIPE DATA SET**"
   ]
  },
  {
   "cell_type": "markdown",
   "metadata": {},
   "source": [
    "Tipe data set adalah tipe data yang terdiri dari kelompok data yang sama (uniqe). Sehingga data yang ada didalamnya tidak boleh ada yang sama. Jika ada yang sama maka akan melebur menjadi satu. Perbedaan diantara keduannya adalah jika menggunakan metode set() elemen/anggota himpunan bersifat mutable yang artinya elemen dalam himpunan **dapat diubah**, sementara jika menggunakan frozenset() bersifat immutable yang artinya elemen di dalam himpunan **tidak dapat diubah**. Penulisan tipe data ini diawali dan diakhiri tanda {}."
   ]
  },
  {
   "cell_type": "code",
   "execution_count": 88,
   "metadata": {},
   "outputs": [],
   "source": [
    "#015 - set\n",
    "s = {1,1,1,2,2,2,2,2,2,3,3,4,5,5,5,6,6,6,6,7,7}"
   ]
  },
  {
   "cell_type": "code",
   "execution_count": 89,
   "metadata": {},
   "outputs": [
    {
     "name": "stdout",
     "output_type": "stream",
     "text": [
      "{1, 2, 3, 4, 5, 6, 7}\n",
      "<class 'set'>\n"
     ]
    }
   ],
   "source": [
    "print(s)\n",
    "print(type(s))"
   ]
  },
  {
   "cell_type": "code",
   "execution_count": 93,
   "metadata": {},
   "outputs": [],
   "source": [
    "#016 - frozen set\n",
    "fs = frozenset(s)"
   ]
  },
  {
   "cell_type": "code",
   "execution_count": 91,
   "metadata": {},
   "outputs": [
    {
     "name": "stdout",
     "output_type": "stream",
     "text": [
      "frozenset({1, 2, 3, 4, 5, 6, 7})\n",
      "<class 'frozenset'>\n"
     ]
    }
   ],
   "source": [
    "print(fs)\n",
    "print(type(fs))"
   ]
  },
  {
   "cell_type": "markdown",
   "metadata": {},
   "source": [
    "Pada tipe data frozen set diatas tidak mengenal fungsi add dan remove pada data, sehingga jika hendak menambah atau menghapus data dalam frosen set maka akan terjadi eror."
   ]
  },
  {
   "cell_type": "markdown",
   "metadata": {},
   "source": [
    "**TIPE DATA BOOLEAN**"
   ]
  },
  {
   "cell_type": "markdown",
   "metadata": {},
   "source": [
    "Tipe data boolean adalah tipe data yang hanya memiliki 2 nilai yaitu **True** dan **False**, pada pernyataan benar atau true memiliki nilai 1 dan pada peryataan salah atau false memiliki nilai 0. Biasa digunakan dalam kebutuhan conditional programming."
   ]
  },
  {
   "cell_type": "code",
   "execution_count": 98,
   "metadata": {},
   "outputs": [],
   "source": [
    "#017 - boolean\n",
    "t = True\n",
    "f = False"
   ]
  },
  {
   "cell_type": "code",
   "execution_count": 104,
   "metadata": {},
   "outputs": [
    {
     "name": "stdout",
     "output_type": "stream",
     "text": [
      "True False\n",
      "<class 'bool'>\n",
      "<class 'bool'>\n"
     ]
    }
   ],
   "source": [
    "print(t,f)\n",
    "print(type(t))\n",
    "print(type(f))"
   ]
  },
  {
   "cell_type": "markdown",
   "metadata": {},
   "source": [
    "Perlu diingat bahwa penulisan True dan False haruslah benar dengan diawali huruf kapital diawal kata dan diikuti huruf kecil setelahnya, untuk membantu mengidentifikasi tulisan kita sudah benar atau belum dapat dilihat pada font tulisan jika berwarna hijau bold maka penulisan boolean sudah benar. Kemudian, dibawah ini adalah penggunaan boolean sederhada dengan menggunakan operator pembanding."
   ]
  },
  {
   "cell_type": "code",
   "execution_count": 107,
   "metadata": {},
   "outputs": [
    {
     "name": "stdout",
     "output_type": "stream",
     "text": [
      "False\n",
      "True\n"
     ]
    }
   ],
   "source": [
    "#018 - penggunaan boolean pada operator perbandingan\n",
    "print(1>2)\n",
    "print(1<2)"
   ]
  },
  {
   "cell_type": "code",
   "execution_count": 106,
   "metadata": {},
   "outputs": [
    {
     "name": "stdout",
     "output_type": "stream",
     "text": [
      "True\n",
      "False\n"
     ]
    }
   ],
   "source": [
    "print(1==1)\n",
    "print(1!=1)"
   ]
  },
  {
   "cell_type": "markdown",
   "metadata": {},
   "source": [
    "## Selamat Mencoba"
   ]
  }
 ],
 "metadata": {
  "kernelspec": {
   "display_name": "Python 3",
   "language": "python",
   "name": "python3"
  },
  "language_info": {
   "codemirror_mode": {
    "name": "ipython",
    "version": 3
   },
   "file_extension": ".py",
   "mimetype": "text/x-python",
   "name": "python",
   "nbconvert_exporter": "python",
   "pygments_lexer": "ipython3",
   "version": "3.8.3"
  }
 },
 "nbformat": 4,
 "nbformat_minor": 4
}

{
 "cells": [
  {
   "cell_type": "markdown",
   "metadata": {},
   "source": [
    "<img src = coverpage.png />\n",
    "\n",
    "# Python Crash Course - pt3"
   ]
  },
  {
   "cell_type": "markdown",
   "metadata": {},
   "source": [
    "Pada bagian ini akan disajikan beberapa contoh script python sebagai media untuk belajar mandiri python, atau sekedar mengingat kembali seputar dasar python. Semoga bermanfaat, selamat belajar.\n",
    "Yang akan dipelajari pada modul ini adalah mengenai fungsi.\n",
    "Fungsi/function adalah blok kode yang terorganisir dan dapat digunakan kembali yang digunakan untuk melakukan satu tindakan terkait. Fungsi memberikan modularitas yang lebih baik untuk aplikasi Anda dan penggunaan ulang kode tingkat tinggi."
   ]
  },
  {
   "cell_type": "markdown",
   "metadata": {},
   "source": [
    "## Mendefinisikan Sebuah Fungsi"
   ]
  },
  {
   "cell_type": "markdown",
   "metadata": {},
   "source": [
    "Anda dapat menentukan fungsi untuk menyediakan fungsionalitas yang diperlukan. Berikut adalah aturan sederhana untuk mendefinisikan fungsi dalam Python.\n",
    "\n",
    "* Blok fungsi dimulai dengan kata kunci def diikuti dengan nama fungsi dan tanda kurung ( ).\n",
    "\n",
    "* Parameter input atau argumen apa pun harus ditempatkan di dalam tanda kurung ini. Anda juga dapat menentukan parameter di dalam tanda kurung ini.\n",
    "\n",
    "* Pernyataan pertama dari suatu fungsi dapat berupa pernyataan opsional - string dokumentasi fungsi atau docstring.\n",
    "\n",
    "* Blok kode dalam setiap fungsi dimulai dengan titik dua (:) dan menjorok.\n",
    "\n",
    "* Pernyataan return [ekspresi] keluar dari suatu fungsi, secara opsional meneruskan kembali ekspresi ke pemanggil. Pernyataan return tanpa argumen sama dengan return None."
   ]
  },
  {
   "cell_type": "markdown",
   "metadata": {},
   "source": [
    "Pada kedua sel dibawah akan dicontohkan pembuatan dan pemanggilan pada fungsi sederhana, sebelum menuju sel code ada baikmnya memahami gambar ilustrasi struktur dari fungsi sederhana.\n",
    "<img src='https://www.petanikode.com/img/python/fungsi/fungsi.png'/>"
   ]
  },
  {
   "cell_type": "code",
   "execution_count": 1,
   "metadata": {},
   "outputs": [],
   "source": [
    "#pembuatan fungsi\n",
    "def namaFungsi():\n",
    "    print('ini hasil pemanggilan fungsi')"
   ]
  },
  {
   "cell_type": "code",
   "execution_count": 2,
   "metadata": {},
   "outputs": [
    {
     "name": "stdout",
     "output_type": "stream",
     "text": [
      "ini hasil pemanggilan fungsi\n"
     ]
    }
   ],
   "source": [
    "#pemanggilan fungsi \n",
    "namaFungsi()"
   ]
  },
  {
   "cell_type": "markdown",
   "metadata": {},
   "source": [
    "## Fungsi dengan Parameter"
   ]
  },
  {
   "cell_type": "markdown",
   "metadata": {},
   "source": [
    "Setelah memahami fungsi secara sederhana selanjutnya adalah bentuk fungsi dengan menggunakan parameter. Parameter adalah variabel yang menampung nilai untuk diproses di dalam fungsi, untuk struktur code nya adalah sebagai berikut.\n",
    "<img src='https://www.petanikode.com/img/python/fungsi/parameter-fungsi.png'/>\n",
    "Pada contoh dibawah ini akan dibuat fungsi  sederhana dengan parameter."
   ]
  },
  {
   "cell_type": "code",
   "execution_count": 10,
   "metadata": {},
   "outputs": [],
   "source": [
    "#pendefinisian parameter\n",
    "param = 'isi parameter'"
   ]
  },
  {
   "cell_type": "code",
   "execution_count": 8,
   "metadata": {},
   "outputs": [],
   "source": [
    "#pebuatan fungsi dengan parameter\n",
    "def fungsiParam(x):\n",
    "    print(x)"
   ]
  },
  {
   "cell_type": "code",
   "execution_count": 11,
   "metadata": {},
   "outputs": [
    {
     "name": "stdout",
     "output_type": "stream",
     "text": [
      "isi parameter\n"
     ]
    }
   ],
   "source": [
    "#pemanggilan fungsi\n",
    "fungsiParam(param)"
   ]
  },
  {
   "cell_type": "markdown",
   "metadata": {},
   "source": [
    "## Fungsi dengan Nilai Balik"
   ]
  },
  {
   "cell_type": "markdown",
   "metadata": {},
   "source": [
    "Cara mengembalikan nilai adalah menggunkan kata kunci return lalu diikuti dengan nilai atau variabel yang akan dikembalikan. Yang dimaksud dari nilai balik disini adalah nilai dari hasil pemrosesan suatu fungsi tersebut akan dikembalikan sebagai output. Untuk penulisan struktur code nya adalah sebagai berikut.\n",
    "/n"
    "<img src='https://www.petanikode.com/img/python/fungsi/return.png'/>"
   ]
  },
  {
   "cell_type": "code",
   "execution_count": 15,
   "metadata": {},
   "outputs": [],
   "source": [
    "#pendefinisian parameter\n",
    "panjang=10\n",
    "lebar=12"
   ]
  },
  {
   "cell_type": "code",
   "execution_count": 25,
   "metadata": {},
   "outputs": [],
   "source": [
    "#pembuatan fungsi dengan nilai balik/return - contoh 1\n",
    "def luas_persegi(x,y):\n",
    "    luas = x*y\n",
    "    return luas"
   ]
  },
  {
   "cell_type": "code",
   "execution_count": 21,
   "metadata": {},
   "outputs": [],
   "source": [
    "#pembuatan fungsi dengan nilai balik/return - contoh 2\n",
    "def keliling_pers(x,y):\n",
    "    return 2*(x+y)"
   ]
  },
  {
   "cell_type": "code",
   "execution_count": 29,
   "metadata": {},
   "outputs": [
    {
     "data": {
      "text/plain": [
       "120"
      ]
     },
     "execution_count": 29,
     "metadata": {},
     "output_type": "execute_result"
    }
   ],
   "source": [
    "#pemanggilan fungsi contoh 1\n",
    "luas_persegi(panjang,lebar)"
   ]
  },
  {
   "cell_type": "code",
   "execution_count": 30,
   "metadata": {},
   "outputs": [
    {
     "data": {
      "text/plain": [
       "44"
      ]
     },
     "execution_count": 30,
     "metadata": {},
     "output_type": "execute_result"
    }
   ],
   "source": [
    "#pemanggilan fungsi contoh 2\n",
    "keliling_pers(panjang,lebar)"
   ]
  },
  {
   "cell_type": "markdown",
   "metadata": {},
   "source": [
    "## Lambda dan Perbedaannya dengan Fungsi"
   ]
  },
  {
   "cell_type": "markdown",
   "metadata": {},
   "source": [
    "Lambda adalah sebuah alternatif deklarasi fungsi tanpa menggunakan kata kunci 'def'. Perbedaan dari lambda dengan fungsi biasa adalah, dengan menggunakan lambda kita dapat membuat fungsi tanpa nama.\n",
    "\n",
    "<img src='https://www.petanikode.com/img/python/lambda/lambda-expression.png'/>\n",
    "\n",
    "Contoh dibawah ini adalah sebuah fungsi operasi matematis sederhana dan perhatikan perbedaan penulisan syntax code dari fungsi biasa dan lambda."
   ]
  },
  {
   "cell_type": "code",
   "execution_count": 18,
   "metadata": {},
   "outputs": [],
   "source": [
    "#pendefinisian variabel\n",
    "var1 = 12\n",
    "var2 = 9"
   ]
  },
  {
   "cell_type": "code",
   "execution_count": 33,
   "metadata": {},
   "outputs": [
    {
     "data": {
      "text/plain": [
       "873"
      ]
     },
     "execution_count": 33,
     "metadata": {},
     "output_type": "execute_result"
    }
   ],
   "source": [
    "#fungsi\n",
    "def contohFungsi(x,y):\n",
    "    return var1**2 + var2**3\n",
    "\n",
    "#hasil\n",
    "contohFungsi(var1,var2)"
   ]
  },
  {
   "cell_type": "code",
   "execution_count": 34,
   "metadata": {},
   "outputs": [
    {
     "data": {
      "text/plain": [
       "873"
      ]
     },
     "execution_count": 34,
     "metadata": {},
     "output_type": "execute_result"
    }
   ],
   "source": [
    "#lambda\n",
    "hasil_lambda = lambda x,y: x**2 + y**3\n",
    "\n",
    "#hasil\n",
    "hasil_lambda(var1,var2)"
   ]
  },
  {
   "cell_type": "markdown",
   "metadata": {},
   "source": [
    "Selanjutnya dibawah ini adalah lambda yang di eksekusi secara langsung dengan fungsi operasi matematik yang sama seperti diatas."
   ]
  },
  {
   "cell_type": "code",
   "execution_count": 35,
   "metadata": {},
   "outputs": [
    {
     "data": {
      "text/plain": [
       "873"
      ]
     },
     "execution_count": 35,
     "metadata": {},
     "output_type": "execute_result"
    }
   ],
   "source": [
    "(lambda x,y: x**2 + y**3)(12,9)"
   ]
  },
  {
   "cell_type": "markdown",
   "metadata": {},
   "source": [
    "## Materi Tambahan : Penggunaan Map, Filter dan Methods terhadap Lambda"
   ]
  },
  {
   "cell_type": "markdown",
   "metadata": {},
   "source": [
    "Sebagai tambahan dibawah ini adalah penggunaan lambda yang lebih advance dari sebelumnya menggunakan map, filter dan methods. "
   ]
  },
  {
   "cell_type": "code",
   "execution_count": 44,
   "metadata": {},
   "outputs": [],
   "source": [
    "#Penggunaan Map pada Lambda\n",
    "i = [1,2,3,4,5]"
   ]
  },
  {
   "cell_type": "code",
   "execution_count": 45,
   "metadata": {},
   "outputs": [
    {
     "name": "stdout",
     "output_type": "stream",
     "text": [
      "[11, 12, 13, 14, 15]\n"
     ]
    }
   ],
   "source": [
    "j = map(lambda x: x+10,i)\n",
    "print(list(j))"
   ]
  },
  {
   "cell_type": "code",
   "execution_count": 46,
   "metadata": {},
   "outputs": [
    {
     "name": "stdout",
     "output_type": "stream",
     "text": [
      "[<function <lambda> at 0x00000161D7FC80D0>, [1, 2, 3, 4, 5]]\n"
     ]
    }
   ],
   "source": [
    "j = (lambda x: x+10,i)\n",
    "print(list(j))"
   ]
  },
  {
   "cell_type": "markdown",
   "metadata": {},
   "source": [
    "Dari contoh diatas dapat diperhatikan penggunaan dan tanpa penggunaan map pada lambda, untuk penggunaan map akan lebih efektif jika digunakan ketika mengolah sebuah data. Untuk hasil dari fungsi lambda dengan map adalah sebuah list."
   ]
  },
  {
   "cell_type": "code",
   "execution_count": 47,
   "metadata": {},
   "outputs": [
    {
     "name": "stdout",
     "output_type": "stream",
     "text": [
      "[2, 4]\n"
     ]
    }
   ],
   "source": [
    "#Penggunaan Filter pada Lambda\n",
    "j = filter(lambda x: x%2 == 0, i)\n",
    "print(list(j))"
   ]
  },
  {
   "cell_type": "code",
   "execution_count": 48,
   "metadata": {},
   "outputs": [
    {
     "name": "stdout",
     "output_type": "stream",
     "text": [
      "[<function <lambda> at 0x00000161D7FC8430>, [1, 2, 3, 4, 5]]\n"
     ]
    }
   ],
   "source": [
    "j = (lambda x: x%2 == 0, i)\n",
    "print(list(j))"
   ]
  },
  {
   "cell_type": "markdown",
   "metadata": {},
   "source": [
    "Dari contoh diatas dapat diperhatikan penggunaan dan tanpa penggunaan filter pada lambda, untuk penggunaan map akan lebih efektif jika digunakan ketika mengolah sebuah data. Untuk hasil dari fungsi lambda dengan filter adalah sebuah hasil seleksi."
   ]
  },
  {
   "cell_type": "markdown",
   "metadata": {},
   "source": [
    "Selanjutnya adalah methods, method memiliki beberapa fungsi syntax antara lain :\n",
    "1. upper() untuk membuat seluruh character alfabet di dalam sebuah data string menjadi uppercase (huruf kapital)\n",
    "2. lower() untuk membuat seluruh character alfabet di dalam sebuah data string menjadi lowercase (huruf kecil)\n",
    "3. split() untuk memisahkan tiap kata dalam string, secara default spasi akan dijadikan separator/pemisah, namun separator juga dapat disesuaikan dengan simbol lain dengan mengisikannya pada tanda dalam kurung.\n",
    "4. keys() untuk menampilkan key dalam sebuah data bertipe dictionary sebagai output.\n",
    "5. pop() untuk menghapus nilai pada index terakhir sebuah data bertipe list dan menampilkannya sebagai output."
   ]
  },
  {
   "cell_type": "code",
   "execution_count": 61,
   "metadata": {},
   "outputs": [],
   "source": [
    "st = 'Selamat Datang, Selamat Makan'\n",
    "dic = {'a1':'abcd','a2':'efgh','a3':'ijkl'}\n",
    "lst = [1,2,3,4,5]"
   ]
  },
  {
   "cell_type": "code",
   "execution_count": 56,
   "metadata": {},
   "outputs": [
    {
     "data": {
      "text/plain": [
       "'SELAMAT DATANG, SELAMAT MAKAN'"
      ]
     },
     "execution_count": 56,
     "metadata": {},
     "output_type": "execute_result"
    }
   ],
   "source": [
    "st.upper()"
   ]
  },
  {
   "cell_type": "code",
   "execution_count": 57,
   "metadata": {},
   "outputs": [
    {
     "data": {
      "text/plain": [
       "'selamat datang, selamat makan'"
      ]
     },
     "execution_count": 57,
     "metadata": {},
     "output_type": "execute_result"
    }
   ],
   "source": [
    "st.lower()"
   ]
  },
  {
   "cell_type": "code",
   "execution_count": 58,
   "metadata": {},
   "outputs": [
    {
     "data": {
      "text/plain": [
       "['Selamat', 'Datang,', 'Selamat', 'Makan']"
      ]
     },
     "execution_count": 58,
     "metadata": {},
     "output_type": "execute_result"
    }
   ],
   "source": [
    "st.split()"
   ]
  },
  {
   "cell_type": "code",
   "execution_count": 59,
   "metadata": {},
   "outputs": [
    {
     "data": {
      "text/plain": [
       "['Selamat Datang', ' Selamat Makan']"
      ]
     },
     "execution_count": 59,
     "metadata": {},
     "output_type": "execute_result"
    }
   ],
   "source": [
    "st.split(',')"
   ]
  },
  {
   "cell_type": "code",
   "execution_count": 60,
   "metadata": {},
   "outputs": [
    {
     "data": {
      "text/plain": [
       "dict_keys(['a1', 'a2', 'a3'])"
      ]
     },
     "execution_count": 60,
     "metadata": {},
     "output_type": "execute_result"
    }
   ],
   "source": [
    "dic.keys()"
   ]
  },
  {
   "cell_type": "code",
   "execution_count": 62,
   "metadata": {},
   "outputs": [
    {
     "data": {
      "text/plain": [
       "5"
      ]
     },
     "execution_count": 62,
     "metadata": {},
     "output_type": "execute_result"
    }
   ],
   "source": [
    "lst.pop()"
   ]
  },
  {
   "cell_type": "code",
   "execution_count": 63,
   "metadata": {},
   "outputs": [
    {
     "data": {
      "text/plain": [
       "[1, 2, 3, 4]"
      ]
     },
     "execution_count": 63,
     "metadata": {},
     "output_type": "execute_result"
    }
   ],
   "source": [
    "lst"
   ]
  },
  {
   "cell_type": "markdown",
   "metadata": {},
   "source": [
    "## Selamat Mencoba"
   ]
  }
 ],
 "metadata": {
  "kernelspec": {
   "display_name": "Python 3",
   "language": "python",
   "name": "python3"
  },
  "language_info": {
   "codemirror_mode": {
    "name": "ipython",
    "version": 3
   },
   "file_extension": ".py",
   "mimetype": "text/x-python",
   "name": "python",
   "nbconvert_exporter": "python",
   "pygments_lexer": "ipython3",
   "version": "3.8.3"
  }
 },
 "nbformat": 4,
 "nbformat_minor": 4
}
